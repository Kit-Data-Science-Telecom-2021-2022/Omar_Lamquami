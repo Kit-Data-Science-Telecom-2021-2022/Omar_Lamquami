{
 "cells": [
  {
   "cell_type": "code",
   "execution_count": 7,
   "id": "c3cbb78e",
   "metadata": {},
   "outputs": [],
   "source": [
    "import sys\n",
    "\n",
    "# +++your code here+++\n",
    "# Define print_words(filename) and print_top(filename) functions.\n",
    "# You could write a helper utility function that reads a file\n",
    "# and builds and returns a word/count dict for it.\n",
    "# Then print_words() and print_top() can just call the utility function.\n",
    "\n",
    "###"
   ]
  },
  {
   "cell_type": "code",
   "execution_count": 12,
   "id": "43eb6d77",
   "metadata": {},
   "outputs": [],
   "source": [
    "\n",
    "def foo(filename):\n",
    "  d= {}\n",
    "  f=open(filename,\"r\")\n",
    "  for line in f:\n",
    "    words=line.lower().split()\n",
    "    for word in words:\n",
    "      if word in d:\n",
    "        d[word]+=1\n",
    "      else:\n",
    "        d[word]=1\n",
    "  f.close()\n",
    "  return d\n",
    "\n",
    "\n"
   ]
  },
  {
   "cell_type": "code",
   "execution_count": 13,
   "id": "e4e0c5fe",
   "metadata": {},
   "outputs": [],
   "source": [
    "def print_words(filename):\n",
    "  dict = foo(filename)\n",
    "  words = sorted(dict.keys())\n",
    "  for word in words:\n",
    "    print(word, dict[word])"
   ]
  },
  {
   "cell_type": "code",
   "execution_count": 14,
   "id": "cffdfa95",
   "metadata": {},
   "outputs": [],
   "source": [
    "\n",
    "def print_top(filename):\n",
    "  dict = foo(filename)\n",
    "  items = sorted(dict.items(), key=lambda x: x[1], reverse=True)\n",
    "  for i in items[:20]:\n",
    "    print(i[0], i[1])\n",
    "  return\n"
   ]
  },
  {
   "cell_type": "code",
   "execution_count": 15,
   "id": "eaa81717",
   "metadata": {},
   "outputs": [
    {
     "name": "stdout",
     "output_type": "stream",
     "text": [
      "unknown option: -f\n"
     ]
    },
    {
     "ename": "SystemExit",
     "evalue": "1",
     "output_type": "error",
     "traceback": [
      "An exception has occurred, use %tb to see the full traceback.\n",
      "\u001b[0;31mSystemExit\u001b[0m\u001b[0;31m:\u001b[0m 1\n"
     ]
    }
   ],
   "source": [
    "# This basic command line argument parsing code is provided and\n",
    "# calls the print_words() and print_top() functions which you must define.\n",
    "def main():\n",
    "  if len(sys.argv) != 3:\n",
    "    print ('usage: ./wordcount.py {--count | --topcount} file')\n",
    "    sys.exit(1)\n",
    "\n",
    "  option = sys.argv[1]\n",
    "  filename = sys.argv[2]\n",
    "  if option == '--count':\n",
    "    print_words(filename)\n",
    "  elif option == '--topcount':\n",
    "    print_top(filename)\n",
    "  else:\n",
    "    print ('unknown option: ' + option)\n",
    "    sys.exit(1)\n",
    "\n",
    "if __name__ == '__main__':\n",
    "  main()"
   ]
  },
  {
   "cell_type": "code",
   "execution_count": null,
   "id": "0a135533",
   "metadata": {},
   "outputs": [],
   "source": []
  },
  {
   "cell_type": "code",
   "execution_count": null,
   "id": "e2e19615",
   "metadata": {},
   "outputs": [],
   "source": []
  },
  {
   "cell_type": "code",
   "execution_count": null,
   "id": "8cb40b84",
   "metadata": {},
   "outputs": [],
   "source": []
  }
 ],
 "metadata": {
  "kernelspec": {
   "display_name": "Python 3",
   "language": "python",
   "name": "python3"
  },
  "language_info": {
   "codemirror_mode": {
    "name": "ipython",
    "version": 3
   },
   "file_extension": ".py",
   "mimetype": "text/x-python",
   "name": "python",
   "nbconvert_exporter": "python",
   "pygments_lexer": "ipython3",
   "version": "3.6.13"
  }
 },
 "nbformat": 4,
 "nbformat_minor": 5
}
